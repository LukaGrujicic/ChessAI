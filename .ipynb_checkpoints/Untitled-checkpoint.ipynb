{
 "cells": [
  {
   "cell_type": "code",
   "execution_count": 1,
   "metadata": {
    "scrolled": true
   },
   "outputs": [
    {
     "name": "stderr",
     "output_type": "stream",
     "text": [
      "Using TensorFlow backend.\n"
     ]
    }
   ],
   "source": [
    "import chess\n",
    "import random \n",
    "import numpy as np \n",
    "import math \n",
    "import keras \n",
    "import tensorflow as tf \n",
    "import time "
   ]
  },
  {
   "cell_type": "code",
   "execution_count": 35,
   "metadata": {},
   "outputs": [],
   "source": [
    "board = chess.Board()"
   ]
  },
  {
   "cell_type": "code",
   "execution_count": 36,
   "metadata": {},
   "outputs": [],
   "source": [
    "def boardEval(board):\n",
    "    #This finds out how many of each peice there is on the board returns an INT \n",
    "    wp = len(board.pieces(chess.PAWN, chess.WHITE))\n",
    "    bp = len(board.pieces(chess.PAWN, chess.BLACK))\n",
    "    wn = len(board.pieces(chess.KNIGHT, chess.WHITE))\n",
    "    bn = len(board.pieces(chess.KNIGHT, chess.BLACK))\n",
    "    wb = len(board.pieces(chess.BISHOP, chess.WHITE))\n",
    "    bb = len(board.pieces(chess.BISHOP, chess.BLACK))\n",
    "    wr = len(board.pieces(chess.ROOK, chess.WHITE))\n",
    "    br = len(board.pieces(chess.ROOK, chess.BLACK))\n",
    "    wq = len(board.pieces(chess.QUEEN, chess.WHITE))\n",
    "    bq = len(board.pieces(chess.QUEEN, chess.BLACK))\n",
    "    \n",
    "    \n",
    "    material = 1*(wp-bp)+3*(wn-bn)+3*(wb-bb)+5*(wr-br)+9*(wq-bq)\n",
    "    evaluation = material\n",
    "    if board.turn:\n",
    "        return evaluation\n",
    "    else:\n",
    "        return -1*evaluation "
   ]
  },
  {
   "cell_type": "code",
   "execution_count": 48,
   "metadata": {},
   "outputs": [],
   "source": [
    "class Node:\n",
    "    def __init__(self,move,board,parent):\n",
    "        self.board = board\n",
    "        self.move = move\n",
    "        self.t = 0\n",
    "        self.n = 0 \n",
    "        self.children = []\n",
    "        self.parent = parent\n",
    "        \n",
    "        \n",
    "    def expansion(self):\n",
    "        if not self.board.is_game_over():\n",
    "            for move in self.board.legal_moves:\n",
    "                self.children.append(Node(move,board,self))\n",
    "    \n",
    "    \n",
    "    \n",
    "class MonteCarloTree:\n",
    "    \n",
    "    def selection(self):\n",
    "        for child in children:\n",
    "            currChildUCB = self.UCB(child)\n",
    "            if currChildUCB > bestChildUCB:\n",
    "                bestChild = child\n",
    "                bestChildUCB = currChildUCB\n",
    "                \n",
    "        if currChildUCB == math.inf:\n",
    "            self.simulation()\n",
    "            \n",
    "    \n",
    "    def simulation(self):\n",
    "        pass\n",
    "    \n",
    "    def backProp(self):\n",
    "        pass\n",
    "    \n",
    "    def UCB(self,node):\n",
    "        if visits == 0:\n",
    "            return math.inf\n",
    "        elif visits != 0: \n",
    "            vi + C(np.sqrt((np.log(N))/n))\n",
    "        "
   ]
  },
  {
   "cell_type": "code",
   "execution_count": null,
   "metadata": {},
   "outputs": [],
   "source": []
  }
 ],
 "metadata": {
  "kernelspec": {
   "display_name": "Python 3",
   "language": "python",
   "name": "python3"
  },
  "language_info": {
   "codemirror_mode": {
    "name": "ipython",
    "version": 3
   },
   "file_extension": ".py",
   "mimetype": "text/x-python",
   "name": "python",
   "nbconvert_exporter": "python",
   "pygments_lexer": "ipython3",
   "version": "3.7.4"
  }
 },
 "nbformat": 4,
 "nbformat_minor": 2
}
